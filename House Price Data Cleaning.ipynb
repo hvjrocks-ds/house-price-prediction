{
 "cells": [
  {
   "cell_type": "markdown",
   "metadata": {},
   "source": [
    "<h2>House Price Regression - Data Cleaning Notebook</h2>"
   ]
  },
  {
   "cell_type": "code",
   "execution_count": 1,
   "metadata": {},
   "outputs": [],
   "source": [
    "import numpy as np\n",
    "import seaborn as sns\n",
    "import pandas as pd\n",
    "import matplotlib.pyplot as plt"
   ]
  },
  {
   "cell_type": "code",
   "execution_count": 2,
   "metadata": {},
   "outputs": [
    {
     "data": {
      "text/html": [
       "<div>\n",
       "<style scoped>\n",
       "    .dataframe tbody tr th:only-of-type {\n",
       "        vertical-align: middle;\n",
       "    }\n",
       "\n",
       "    .dataframe tbody tr th {\n",
       "        vertical-align: top;\n",
       "    }\n",
       "\n",
       "    .dataframe thead th {\n",
       "        text-align: right;\n",
       "    }\n",
       "</style>\n",
       "<table border=\"1\" class=\"dataframe\">\n",
       "  <thead>\n",
       "    <tr style=\"text-align: right;\">\n",
       "      <th></th>\n",
       "      <th>Id</th>\n",
       "      <th>MSSubClass</th>\n",
       "      <th>MSZoning</th>\n",
       "      <th>LotFrontage</th>\n",
       "      <th>LotArea</th>\n",
       "      <th>Street</th>\n",
       "      <th>Alley</th>\n",
       "      <th>LotShape</th>\n",
       "      <th>LandContour</th>\n",
       "      <th>Utilities</th>\n",
       "      <th>...</th>\n",
       "      <th>PoolArea</th>\n",
       "      <th>PoolQC</th>\n",
       "      <th>Fence</th>\n",
       "      <th>MiscFeature</th>\n",
       "      <th>MiscVal</th>\n",
       "      <th>MoSold</th>\n",
       "      <th>YrSold</th>\n",
       "      <th>SaleType</th>\n",
       "      <th>SaleCondition</th>\n",
       "      <th>SalePrice</th>\n",
       "    </tr>\n",
       "  </thead>\n",
       "  <tbody>\n",
       "    <tr>\n",
       "      <th>0</th>\n",
       "      <td>1</td>\n",
       "      <td>60</td>\n",
       "      <td>RL</td>\n",
       "      <td>65.0</td>\n",
       "      <td>8450</td>\n",
       "      <td>Pave</td>\n",
       "      <td>NaN</td>\n",
       "      <td>Reg</td>\n",
       "      <td>Lvl</td>\n",
       "      <td>AllPub</td>\n",
       "      <td>...</td>\n",
       "      <td>0</td>\n",
       "      <td>NaN</td>\n",
       "      <td>NaN</td>\n",
       "      <td>NaN</td>\n",
       "      <td>0</td>\n",
       "      <td>2</td>\n",
       "      <td>2008</td>\n",
       "      <td>WD</td>\n",
       "      <td>Normal</td>\n",
       "      <td>208500</td>\n",
       "    </tr>\n",
       "    <tr>\n",
       "      <th>1</th>\n",
       "      <td>2</td>\n",
       "      <td>20</td>\n",
       "      <td>RL</td>\n",
       "      <td>80.0</td>\n",
       "      <td>9600</td>\n",
       "      <td>Pave</td>\n",
       "      <td>NaN</td>\n",
       "      <td>Reg</td>\n",
       "      <td>Lvl</td>\n",
       "      <td>AllPub</td>\n",
       "      <td>...</td>\n",
       "      <td>0</td>\n",
       "      <td>NaN</td>\n",
       "      <td>NaN</td>\n",
       "      <td>NaN</td>\n",
       "      <td>0</td>\n",
       "      <td>5</td>\n",
       "      <td>2007</td>\n",
       "      <td>WD</td>\n",
       "      <td>Normal</td>\n",
       "      <td>181500</td>\n",
       "    </tr>\n",
       "    <tr>\n",
       "      <th>2</th>\n",
       "      <td>3</td>\n",
       "      <td>60</td>\n",
       "      <td>RL</td>\n",
       "      <td>68.0</td>\n",
       "      <td>11250</td>\n",
       "      <td>Pave</td>\n",
       "      <td>NaN</td>\n",
       "      <td>IR1</td>\n",
       "      <td>Lvl</td>\n",
       "      <td>AllPub</td>\n",
       "      <td>...</td>\n",
       "      <td>0</td>\n",
       "      <td>NaN</td>\n",
       "      <td>NaN</td>\n",
       "      <td>NaN</td>\n",
       "      <td>0</td>\n",
       "      <td>9</td>\n",
       "      <td>2008</td>\n",
       "      <td>WD</td>\n",
       "      <td>Normal</td>\n",
       "      <td>223500</td>\n",
       "    </tr>\n",
       "    <tr>\n",
       "      <th>3</th>\n",
       "      <td>4</td>\n",
       "      <td>70</td>\n",
       "      <td>RL</td>\n",
       "      <td>60.0</td>\n",
       "      <td>9550</td>\n",
       "      <td>Pave</td>\n",
       "      <td>NaN</td>\n",
       "      <td>IR1</td>\n",
       "      <td>Lvl</td>\n",
       "      <td>AllPub</td>\n",
       "      <td>...</td>\n",
       "      <td>0</td>\n",
       "      <td>NaN</td>\n",
       "      <td>NaN</td>\n",
       "      <td>NaN</td>\n",
       "      <td>0</td>\n",
       "      <td>2</td>\n",
       "      <td>2006</td>\n",
       "      <td>WD</td>\n",
       "      <td>Abnorml</td>\n",
       "      <td>140000</td>\n",
       "    </tr>\n",
       "    <tr>\n",
       "      <th>4</th>\n",
       "      <td>5</td>\n",
       "      <td>60</td>\n",
       "      <td>RL</td>\n",
       "      <td>84.0</td>\n",
       "      <td>14260</td>\n",
       "      <td>Pave</td>\n",
       "      <td>NaN</td>\n",
       "      <td>IR1</td>\n",
       "      <td>Lvl</td>\n",
       "      <td>AllPub</td>\n",
       "      <td>...</td>\n",
       "      <td>0</td>\n",
       "      <td>NaN</td>\n",
       "      <td>NaN</td>\n",
       "      <td>NaN</td>\n",
       "      <td>0</td>\n",
       "      <td>12</td>\n",
       "      <td>2008</td>\n",
       "      <td>WD</td>\n",
       "      <td>Normal</td>\n",
       "      <td>250000</td>\n",
       "    </tr>\n",
       "  </tbody>\n",
       "</table>\n",
       "<p>5 rows × 81 columns</p>\n",
       "</div>"
      ],
      "text/plain": [
       "   Id  MSSubClass MSZoning  LotFrontage  LotArea Street Alley LotShape  \\\n",
       "0   1          60       RL         65.0     8450   Pave   NaN      Reg   \n",
       "1   2          20       RL         80.0     9600   Pave   NaN      Reg   \n",
       "2   3          60       RL         68.0    11250   Pave   NaN      IR1   \n",
       "3   4          70       RL         60.0     9550   Pave   NaN      IR1   \n",
       "4   5          60       RL         84.0    14260   Pave   NaN      IR1   \n",
       "\n",
       "  LandContour Utilities  ... PoolArea PoolQC Fence MiscFeature MiscVal MoSold  \\\n",
       "0         Lvl    AllPub  ...        0    NaN   NaN         NaN       0      2   \n",
       "1         Lvl    AllPub  ...        0    NaN   NaN         NaN       0      5   \n",
       "2         Lvl    AllPub  ...        0    NaN   NaN         NaN       0      9   \n",
       "3         Lvl    AllPub  ...        0    NaN   NaN         NaN       0      2   \n",
       "4         Lvl    AllPub  ...        0    NaN   NaN         NaN       0     12   \n",
       "\n",
       "  YrSold  SaleType  SaleCondition  SalePrice  \n",
       "0   2008        WD         Normal     208500  \n",
       "1   2007        WD         Normal     181500  \n",
       "2   2008        WD         Normal     223500  \n",
       "3   2006        WD        Abnorml     140000  \n",
       "4   2008        WD         Normal     250000  \n",
       "\n",
       "[5 rows x 81 columns]"
      ]
     },
     "execution_count": 2,
     "metadata": {},
     "output_type": "execute_result"
    }
   ],
   "source": [
    "train_df = pd.read_csv(\"train.csv\")\n",
    "train_df.head()"
   ]
  },
  {
   "cell_type": "code",
   "execution_count": 3,
   "metadata": {},
   "outputs": [
    {
     "data": {
      "text/html": [
       "<div>\n",
       "<style scoped>\n",
       "    .dataframe tbody tr th:only-of-type {\n",
       "        vertical-align: middle;\n",
       "    }\n",
       "\n",
       "    .dataframe tbody tr th {\n",
       "        vertical-align: top;\n",
       "    }\n",
       "\n",
       "    .dataframe thead th {\n",
       "        text-align: right;\n",
       "    }\n",
       "</style>\n",
       "<table border=\"1\" class=\"dataframe\">\n",
       "  <thead>\n",
       "    <tr style=\"text-align: right;\">\n",
       "      <th></th>\n",
       "      <th>Id</th>\n",
       "      <th>MSSubClass</th>\n",
       "      <th>MSZoning</th>\n",
       "      <th>LotFrontage</th>\n",
       "      <th>LotArea</th>\n",
       "      <th>Street</th>\n",
       "      <th>Alley</th>\n",
       "      <th>LotShape</th>\n",
       "      <th>LandContour</th>\n",
       "      <th>Utilities</th>\n",
       "      <th>...</th>\n",
       "      <th>ScreenPorch</th>\n",
       "      <th>PoolArea</th>\n",
       "      <th>PoolQC</th>\n",
       "      <th>Fence</th>\n",
       "      <th>MiscFeature</th>\n",
       "      <th>MiscVal</th>\n",
       "      <th>MoSold</th>\n",
       "      <th>YrSold</th>\n",
       "      <th>SaleType</th>\n",
       "      <th>SaleCondition</th>\n",
       "    </tr>\n",
       "  </thead>\n",
       "  <tbody>\n",
       "    <tr>\n",
       "      <th>0</th>\n",
       "      <td>1461</td>\n",
       "      <td>20</td>\n",
       "      <td>RH</td>\n",
       "      <td>80.0</td>\n",
       "      <td>11622</td>\n",
       "      <td>Pave</td>\n",
       "      <td>NaN</td>\n",
       "      <td>Reg</td>\n",
       "      <td>Lvl</td>\n",
       "      <td>AllPub</td>\n",
       "      <td>...</td>\n",
       "      <td>120</td>\n",
       "      <td>0</td>\n",
       "      <td>NaN</td>\n",
       "      <td>MnPrv</td>\n",
       "      <td>NaN</td>\n",
       "      <td>0</td>\n",
       "      <td>6</td>\n",
       "      <td>2010</td>\n",
       "      <td>WD</td>\n",
       "      <td>Normal</td>\n",
       "    </tr>\n",
       "    <tr>\n",
       "      <th>1</th>\n",
       "      <td>1462</td>\n",
       "      <td>20</td>\n",
       "      <td>RL</td>\n",
       "      <td>81.0</td>\n",
       "      <td>14267</td>\n",
       "      <td>Pave</td>\n",
       "      <td>NaN</td>\n",
       "      <td>IR1</td>\n",
       "      <td>Lvl</td>\n",
       "      <td>AllPub</td>\n",
       "      <td>...</td>\n",
       "      <td>0</td>\n",
       "      <td>0</td>\n",
       "      <td>NaN</td>\n",
       "      <td>NaN</td>\n",
       "      <td>Gar2</td>\n",
       "      <td>12500</td>\n",
       "      <td>6</td>\n",
       "      <td>2010</td>\n",
       "      <td>WD</td>\n",
       "      <td>Normal</td>\n",
       "    </tr>\n",
       "    <tr>\n",
       "      <th>2</th>\n",
       "      <td>1463</td>\n",
       "      <td>60</td>\n",
       "      <td>RL</td>\n",
       "      <td>74.0</td>\n",
       "      <td>13830</td>\n",
       "      <td>Pave</td>\n",
       "      <td>NaN</td>\n",
       "      <td>IR1</td>\n",
       "      <td>Lvl</td>\n",
       "      <td>AllPub</td>\n",
       "      <td>...</td>\n",
       "      <td>0</td>\n",
       "      <td>0</td>\n",
       "      <td>NaN</td>\n",
       "      <td>MnPrv</td>\n",
       "      <td>NaN</td>\n",
       "      <td>0</td>\n",
       "      <td>3</td>\n",
       "      <td>2010</td>\n",
       "      <td>WD</td>\n",
       "      <td>Normal</td>\n",
       "    </tr>\n",
       "    <tr>\n",
       "      <th>3</th>\n",
       "      <td>1464</td>\n",
       "      <td>60</td>\n",
       "      <td>RL</td>\n",
       "      <td>78.0</td>\n",
       "      <td>9978</td>\n",
       "      <td>Pave</td>\n",
       "      <td>NaN</td>\n",
       "      <td>IR1</td>\n",
       "      <td>Lvl</td>\n",
       "      <td>AllPub</td>\n",
       "      <td>...</td>\n",
       "      <td>0</td>\n",
       "      <td>0</td>\n",
       "      <td>NaN</td>\n",
       "      <td>NaN</td>\n",
       "      <td>NaN</td>\n",
       "      <td>0</td>\n",
       "      <td>6</td>\n",
       "      <td>2010</td>\n",
       "      <td>WD</td>\n",
       "      <td>Normal</td>\n",
       "    </tr>\n",
       "    <tr>\n",
       "      <th>4</th>\n",
       "      <td>1465</td>\n",
       "      <td>120</td>\n",
       "      <td>RL</td>\n",
       "      <td>43.0</td>\n",
       "      <td>5005</td>\n",
       "      <td>Pave</td>\n",
       "      <td>NaN</td>\n",
       "      <td>IR1</td>\n",
       "      <td>HLS</td>\n",
       "      <td>AllPub</td>\n",
       "      <td>...</td>\n",
       "      <td>144</td>\n",
       "      <td>0</td>\n",
       "      <td>NaN</td>\n",
       "      <td>NaN</td>\n",
       "      <td>NaN</td>\n",
       "      <td>0</td>\n",
       "      <td>1</td>\n",
       "      <td>2010</td>\n",
       "      <td>WD</td>\n",
       "      <td>Normal</td>\n",
       "    </tr>\n",
       "  </tbody>\n",
       "</table>\n",
       "<p>5 rows × 80 columns</p>\n",
       "</div>"
      ],
      "text/plain": [
       "     Id  MSSubClass MSZoning  LotFrontage  LotArea Street Alley LotShape  \\\n",
       "0  1461          20       RH         80.0    11622   Pave   NaN      Reg   \n",
       "1  1462          20       RL         81.0    14267   Pave   NaN      IR1   \n",
       "2  1463          60       RL         74.0    13830   Pave   NaN      IR1   \n",
       "3  1464          60       RL         78.0     9978   Pave   NaN      IR1   \n",
       "4  1465         120       RL         43.0     5005   Pave   NaN      IR1   \n",
       "\n",
       "  LandContour Utilities  ... ScreenPorch PoolArea PoolQC  Fence MiscFeature  \\\n",
       "0         Lvl    AllPub  ...         120        0    NaN  MnPrv         NaN   \n",
       "1         Lvl    AllPub  ...           0        0    NaN    NaN        Gar2   \n",
       "2         Lvl    AllPub  ...           0        0    NaN  MnPrv         NaN   \n",
       "3         Lvl    AllPub  ...           0        0    NaN    NaN         NaN   \n",
       "4         HLS    AllPub  ...         144        0    NaN    NaN         NaN   \n",
       "\n",
       "  MiscVal MoSold  YrSold  SaleType  SaleCondition  \n",
       "0       0      6    2010        WD         Normal  \n",
       "1   12500      6    2010        WD         Normal  \n",
       "2       0      3    2010        WD         Normal  \n",
       "3       0      6    2010        WD         Normal  \n",
       "4       0      1    2010        WD         Normal  \n",
       "\n",
       "[5 rows x 80 columns]"
      ]
     },
     "execution_count": 3,
     "metadata": {},
     "output_type": "execute_result"
    }
   ],
   "source": [
    "test_df = pd.read_csv(\"test.csv\")\n",
    "test_df.head()"
   ]
  },
  {
   "cell_type": "code",
   "execution_count": 4,
   "metadata": {},
   "outputs": [
    {
     "name": "stdout",
     "output_type": "stream",
     "text": [
      "Training data size:  (1460, 81)\n",
      "Testing data size:  (1459, 80)\n"
     ]
    }
   ],
   "source": [
    "print(\"Training data size: \",train_df.shape)\n",
    "print(\"Testing data size: \",test_df.shape)"
   ]
  },
  {
   "cell_type": "markdown",
   "metadata": {},
   "source": [
    "<h3>Working on the training dataset</h3>"
   ]
  },
  {
   "cell_type": "markdown",
   "metadata": {},
   "source": [
    "#### Finding missing values in the training dataset using the heatmap"
   ]
  },
  {
   "cell_type": "code",
   "execution_count": 5,
   "metadata": {},
   "outputs": [
    {
     "data": {
      "text/plain": [
       "<AxesSubplot:>"
      ]
     },
     "execution_count": 5,
     "metadata": {},
     "output_type": "execute_result"
    },
    {
     "data": {
      "image/png": "[encoded data removed]",
      "text/plain": [
       "<Figure size 432x288 with 1 Axes>"
      ]
     },
     "metadata": {
      "needs_background": "light"
     },
     "output_type": "display_data"
    }
   ],
   "source": [
    "sns.heatmap(train_df.isnull(), cbar=False)"
   ]
  },
  {
   "cell_type": "markdown",
   "metadata": {},
   "source": [
    "#### Finding the variables with missing values and creating the list for such variables"
   ]
  },
  {
   "cell_type": "code",
   "execution_count": 6,
   "metadata": {},
   "outputs": [],
   "source": [
    "columns = []\n",
    "columns = train_df.columns\n",
    "counts = []\n",
    "counts = train_df.isnull().sum()\n",
    "dict = {\"Columns\":columns, \"Counts\":counts} \n",
    "value_count = pd.DataFrame.from_dict(dict, orient='index').transpose()\n",
    "value_count.head()\n",
    "value_count.to_csv('missing_values.csv',index=False)"
   ]
  },
  {
   "cell_type": "markdown",
   "metadata": {},
   "source": [
    "#### Missing values"
   ]
  },
  {
   "cell_type": "code",
   "execution_count": 7,
   "metadata": {},
   "outputs": [
    {
     "name": "stdout",
     "output_type": "stream",
     "text": [
      "Alley 1369\n",
      "FireplaceQu 690\n",
      "PoolQC 1453\n",
      "Fence 1179\n",
      "MiscFeature 1406\n"
     ]
    }
   ],
   "source": [
    "print(\"Alley\",train_df['Alley'].isnull().sum())\n",
    "print(\"FireplaceQu\",train_df['FireplaceQu'].isnull().sum())\n",
    "print(\"PoolQC\",train_df['PoolQC'].isnull().sum())\n",
    "print(\"Fence\",train_df['Fence'].isnull().sum())\n",
    "print(\"MiscFeature\",train_df['MiscFeature'].isnull().sum())"
   ]
  },
  {
   "cell_type": "markdown",
   "metadata": {},
   "source": [
    "#### Dropping columns that have more than 50% values are missing"
   ]
  },
  {
   "cell_type": "code",
   "execution_count": 8,
   "metadata": {},
   "outputs": [],
   "source": [
    "train_df.drop(['Alley','PoolQC','Fence','MiscFeature'], axis=1, inplace=True)"
   ]
  },
  {
   "cell_type": "markdown",
   "metadata": {},
   "source": [
    "### Feature Engineering"
   ]
  },
  {
   "cell_type": "markdown",
   "metadata": {},
   "source": [
    "#### Going feature by feature to resolve missing values issue (Training dataset)"
   ]
  },
  {
   "cell_type": "code",
   "execution_count": 9,
   "metadata": {},
   "outputs": [
    {
     "name": "stdout",
     "output_type": "stream",
     "text": [
      "count    1201.000000\n",
      "mean       70.049958\n",
      "std        24.284752\n",
      "min        21.000000\n",
      "25%        59.000000\n",
      "50%        69.000000\n",
      "75%        80.000000\n",
      "max       313.000000\n",
      "Name: LotFrontage, dtype: float64\n",
      "259\n",
      "0\n"
     ]
    }
   ],
   "source": [
    "# LotFrontage\n",
    "print(train_df['LotFrontage'].describe())\n",
    "print(train_df['LotFrontage'].isnull().sum())\n",
    "train_df['LotFrontage'].fillna(train_df['LotFrontage'].mean(), inplace=True)\n",
    "print(train_df['LotFrontage'].isnull().sum())"
   ]
  },
  {
   "cell_type": "code",
   "execution_count": 10,
   "metadata": {},
   "outputs": [
    {
     "name": "stdout",
     "output_type": "stream",
     "text": [
      "None       864\n",
      "BrkFace    445\n",
      "Stone      128\n",
      "BrkCmn      15\n",
      "Name: MasVnrType, dtype: int64\n",
      "Count before replacing missing values:  8\n",
      "Count after replacing missing values:  0\n"
     ]
    }
   ],
   "source": [
    "# MasVnrType\n",
    "print(train_df['MasVnrType'].value_counts())\n",
    "print(\"Count before replacing missing values: \", train_df['MasVnrType'].isnull().sum())\n",
    "train_df['MasVnrType'].fillna(train_df['MasVnrType'].mode()[0], inplace=True)\n",
    "print(\"Count after replacing missing values: \", train_df['MasVnrType'].isnull().sum())"
   ]
  },
  {
   "cell_type": "code",
   "execution_count": 11,
   "metadata": {},
   "outputs": [
    {
     "name": "stdout",
     "output_type": "stream",
     "text": [
      "count    1452.000000\n",
      "mean      103.685262\n",
      "std       181.066207\n",
      "min         0.000000\n",
      "25%         0.000000\n",
      "50%         0.000000\n",
      "75%       166.000000\n",
      "max      1600.000000\n",
      "Name: MasVnrArea, dtype: float64\n",
      "Missing values before replacement:  8\n",
      "Missing values before replacement:  0\n"
     ]
    }
   ],
   "source": [
    "# MasVnrArea\n",
    "print(train_df['MasVnrArea'].describe())\n",
    "print(\"Missing values before replacement: \",train_df['MasVnrArea'].isnull().sum())\n",
    "train_df['MasVnrArea'].fillna(train_df['MasVnrArea'].mean(), inplace=True)\n",
    "print(\"Missing values before replacement: \",train_df['MasVnrArea'].isnull().sum())"
   ]
  },
  {
   "cell_type": "code",
   "execution_count": 12,
   "metadata": {},
   "outputs": [
    {
     "name": "stdout",
     "output_type": "stream",
     "text": [
      "TA    649\n",
      "Gd    618\n",
      "Ex    121\n",
      "Fa     35\n",
      "Name: BsmtQual, dtype: int64\n",
      "Missing values before replacement:  37\n",
      "Missing values after replacement:  0\n"
     ]
    }
   ],
   "source": [
    "#BsmtQual\n",
    "print(train_df['BsmtQual'].value_counts())\n",
    "print(\"Missing values before replacement: \", train_df['BsmtQual'].isnull().sum())\n",
    "train_df['BsmtQual'].fillna(train_df['BsmtQual'].mode()[0], inplace=True)\n",
    "print(\"Missing values after replacement: \", train_df['BsmtQual'].isnull().sum())"
   ]
  },
  {
   "cell_type": "code",
   "execution_count": 13,
   "metadata": {},
   "outputs": [
    {
     "name": "stdout",
     "output_type": "stream",
     "text": [
      "TA    1311\n",
      "Gd      65\n",
      "Fa      45\n",
      "Po       2\n",
      "Name: BsmtCond, dtype: int64\n",
      "Missing values before replacement:  37\n",
      "Missing values after replacement:  0\n"
     ]
    }
   ],
   "source": [
    "#BsmtCond\n",
    "print(train_df['BsmtCond'].value_counts())\n",
    "print(\"Missing values before replacement: \", train_df['BsmtCond'].isnull().sum())\n",
    "train_df['BsmtCond'].fillna(train_df['BsmtCond'].mode()[0], inplace=True)\n",
    "print(\"Missing values after replacement: \", train_df['BsmtCond'].isnull().sum())"
   ]
  },
  {
   "cell_type": "code",
   "execution_count": 14,
   "metadata": {},
   "outputs": [
    {
     "name": "stdout",
     "output_type": "stream",
     "text": [
      "No    953\n",
      "Av    221\n",
      "Gd    134\n",
      "Mn    114\n",
      "Name: BsmtExposure, dtype: int64\n",
      "Missing values before replacement:  38\n",
      "Missing values after replacement:  0\n"
     ]
    }
   ],
   "source": [
    "#BsmtExposure\n",
    "print(train_df['BsmtExposure'].value_counts())\n",
    "print(\"Missing values before replacement: \", train_df['BsmtExposure'].isnull().sum())\n",
    "train_df['BsmtExposure'].fillna(train_df['BsmtExposure'].mode()[0], inplace=True)\n",
    "print(\"Missing values after replacement: \", train_df['BsmtExposure'].isnull().sum())"
   ]
  },
  {
   "cell_type": "code",
   "execution_count": 15,
   "metadata": {},
   "outputs": [
    {
     "name": "stdout",
     "output_type": "stream",
     "text": [
      "Unf    430\n",
      "GLQ    418\n",
      "ALQ    220\n",
      "BLQ    148\n",
      "Rec    133\n",
      "LwQ     74\n",
      "Name: BsmtFinType1, dtype: int64\n",
      "Missing values before replacement:  37\n",
      "Missing values after replacement:  0\n"
     ]
    }
   ],
   "source": [
    "#BsmtFinType1\n",
    "print(train_df['BsmtFinType1'].value_counts())\n",
    "print(\"Missing values before replacement: \", train_df['BsmtFinType1'].isnull().sum())\n",
    "train_df['BsmtFinType1'].fillna(train_df['BsmtFinType1'].mode()[0], inplace=True)\n",
    "print(\"Missing values after replacement: \", train_df['BsmtFinType1'].isnull().sum())"
   ]
  },
  {
   "cell_type": "code",
   "execution_count": 16,
   "metadata": {},
   "outputs": [
    {
     "name": "stdout",
     "output_type": "stream",
     "text": [
      "Unf    1256\n",
      "Rec      54\n",
      "LwQ      46\n",
      "BLQ      33\n",
      "ALQ      19\n",
      "GLQ      14\n",
      "Name: BsmtFinType2, dtype: int64\n",
      "Missing values before replacement:  38\n",
      "Missing values after replacement:  0\n"
     ]
    }
   ],
   "source": [
    "#BsmtFinType2\n",
    "print(train_df['BsmtFinType2'].value_counts())\n",
    "print(\"Missing values before replacement: \", train_df['BsmtFinType2'].isnull().sum())\n",
    "train_df['BsmtFinType2'].fillna(train_df['BsmtFinType2'].mode()[0], inplace=True)\n",
    "print(\"Missing values after replacement: \", train_df['BsmtFinType2'].isnull().sum())"
   ]
  },
  {
   "cell_type": "code",
   "execution_count": 17,
   "metadata": {},
   "outputs": [
    {
     "name": "stdout",
     "output_type": "stream",
     "text": [
      "SBrkr    1334\n",
      "FuseA      94\n",
      "FuseF      27\n",
      "FuseP       3\n",
      "Mix         1\n",
      "Name: Electrical, dtype: int64\n",
      "Missing values before replacement:  1\n",
      "Missing values after replacement:  0\n"
     ]
    }
   ],
   "source": [
    "#Electrical\n",
    "print(train_df['Electrical'].value_counts())\n",
    "print(\"Missing values before replacement: \", train_df['Electrical'].isnull().sum())\n",
    "train_df['Electrical'].fillna(train_df['Electrical'].mode()[0], inplace=True)\n",
    "print(\"Missing values after replacement: \", train_df['Electrical'].isnull().sum())"
   ]
  },
  {
   "cell_type": "code",
   "execution_count": 18,
   "metadata": {},
   "outputs": [
    {
     "name": "stdout",
     "output_type": "stream",
     "text": [
      "Gd    380\n",
      "TA    313\n",
      "Fa     33\n",
      "Ex     24\n",
      "Po     20\n",
      "Name: FireplaceQu, dtype: int64\n",
      "Missing values before replacement:  690\n",
      "Missing values after replacement:  0\n"
     ]
    }
   ],
   "source": [
    "#FireplaceQu\n",
    "print(train_df['FireplaceQu'].value_counts())\n",
    "print(\"Missing values before replacement: \", train_df['FireplaceQu'].isnull().sum())\n",
    "train_df['FireplaceQu'].fillna(train_df['FireplaceQu'].mode()[0], inplace=True)\n",
    "print(\"Missing values after replacement: \", train_df['FireplaceQu'].isnull().sum())"
   ]
  },
  {
   "cell_type": "code",
   "execution_count": 19,
   "metadata": {},
   "outputs": [
    {
     "name": "stdout",
     "output_type": "stream",
     "text": [
      "Attchd     870\n",
      "Detchd     387\n",
      "BuiltIn     88\n",
      "Basment     19\n",
      "CarPort      9\n",
      "2Types       6\n",
      "Name: GarageType, dtype: int64\n",
      "Missing values before replacement:  81\n",
      "Missing values after replacement:  0\n"
     ]
    }
   ],
   "source": [
    "#GarageType\n",
    "print(train_df['GarageType'].value_counts())\n",
    "print(\"Missing values before replacement: \", train_df['GarageType'].isnull().sum())\n",
    "train_df['GarageType'].fillna(train_df['GarageType'].mode()[0], inplace=True)\n",
    "print(\"Missing values after replacement: \", train_df['GarageType'].isnull().sum())"
   ]
  },
  {
   "cell_type": "code",
   "execution_count": 20,
   "metadata": {},
   "outputs": [
    {
     "name": "stdout",
     "output_type": "stream",
     "text": [
      "count    1379.000000\n",
      "mean     1978.506164\n",
      "std        24.689725\n",
      "min      1900.000000\n",
      "25%      1961.000000\n",
      "50%      1980.000000\n",
      "75%      2002.000000\n",
      "max      2010.000000\n",
      "Name: GarageYrBlt, dtype: float64\n",
      "Missing values before replacement:  81\n",
      "Missing values after replacement:  0\n"
     ]
    }
   ],
   "source": [
    "#GarageYrBlt\n",
    "print(train_df['GarageYrBlt'].describe())\n",
    "print(\"Missing values before replacement: \", train_df['GarageYrBlt'].isnull().sum())\n",
    "train_df['GarageYrBlt'].fillna(train_df['GarageYrBlt'].median(), inplace=True)\n",
    "print(\"Missing values after replacement: \", train_df['GarageYrBlt'].isnull().sum())"
   ]
  },
  {
   "cell_type": "code",
   "execution_count": 21,
   "metadata": {},
   "outputs": [
    {
     "name": "stdout",
     "output_type": "stream",
     "text": [
      "Unf    605\n",
      "RFn    422\n",
      "Fin    352\n",
      "Name: GarageFinish, dtype: int64\n",
      "Missing values before replacement:  81\n",
      "Missing values after replacement:  0\n"
     ]
    }
   ],
   "source": [
    "#GarageFinish\n",
    "print(train_df['GarageFinish'].value_counts())\n",
    "print(\"Missing values before replacement: \", train_df['GarageFinish'].isnull().sum())\n",
    "train_df['GarageFinish'].fillna(train_df['GarageFinish'].mode()[0], inplace=True)\n",
    "print(\"Missing values after replacement: \", train_df['GarageFinish'].isnull().sum())"
   ]
  },
  {
   "cell_type": "code",
   "execution_count": 22,
   "metadata": {},
   "outputs": [
    {
     "name": "stdout",
     "output_type": "stream",
     "text": [
      "TA    1311\n",
      "Fa      48\n",
      "Gd      14\n",
      "Ex       3\n",
      "Po       3\n",
      "Name: GarageQual, dtype: int64\n",
      "Missing values before replacement:  81\n",
      "Missing values after replacement:  0\n"
     ]
    }
   ],
   "source": [
    "#GarageQual\n",
    "print(train_df['GarageQual'].value_counts())\n",
    "print(\"Missing values before replacement: \", train_df['GarageQual'].isnull().sum())\n",
    "train_df['GarageQual'].fillna(train_df['GarageQual'].mode()[0], inplace=True)\n",
    "print(\"Missing values after replacement: \", train_df['GarageQual'].isnull().sum())"
   ]
  },
  {
   "cell_type": "code",
   "execution_count": 23,
   "metadata": {},
   "outputs": [
    {
     "name": "stdout",
     "output_type": "stream",
     "text": [
      "TA    1326\n",
      "Fa      35\n",
      "Gd       9\n",
      "Po       7\n",
      "Ex       2\n",
      "Name: GarageCond, dtype: int64\n",
      "Missing values before replacement:  81\n",
      "Missing values after replacement:  0\n"
     ]
    }
   ],
   "source": [
    "#GarageCond\n",
    "print(train_df['GarageCond'].value_counts())\n",
    "print(\"Missing values before replacement: \", train_df['GarageCond'].isnull().sum())\n",
    "train_df['GarageCond'].fillna(train_df['GarageCond'].mode()[0], inplace=True)\n",
    "print(\"Missing values after replacement: \", train_df['GarageCond'].isnull().sum())"
   ]
  },
  {
   "cell_type": "code",
   "execution_count": 24,
   "metadata": {},
   "outputs": [
    {
     "data": {
      "text/plain": [
       "(1460, 77)"
      ]
     },
     "execution_count": 24,
     "metadata": {},
     "output_type": "execute_result"
    },
    {
     "data": {
      "image/png": "[encoded data removed]",
      "text/plain": [
       "<Figure size 432x288 with 1 Axes>"
      ]
     },
     "metadata": {
      "needs_background": "light"
     },
     "output_type": "display_data"
    }
   ],
   "source": [
    "sns.heatmap(train_df.isnull(), cbar=False)\n",
    "train_df.shape"
   ]
  },
  {
   "cell_type": "code",
   "execution_count": 25,
   "metadata": {},
   "outputs": [],
   "source": [
    "train_df.to_csv(\"train_clean.csv\", index=False)"
   ]
  },
  {
   "cell_type": "markdown",
   "metadata": {},
   "source": [
    "### Working on the test dataset"
   ]
  },
  {
   "cell_type": "markdown",
   "metadata": {},
   "source": [
    "#### Finding missing values in the test dataset using the heatmap"
   ]
  },
  {
   "cell_type": "code",
   "execution_count": 26,
   "metadata": {},
   "outputs": [
    {
     "data": {
      "text/plain": [
       "<AxesSubplot:>"
      ]
     },
     "execution_count": 26,
     "metadata": {},
     "output_type": "execute_result"
    },
    {
     "data": {
      "image/png": "[encoded data removed]",
      "text/plain": [
       "<Figure size 432x288 with 1 Axes>"
      ]
     },
     "metadata": {
      "needs_background": "light"
     },
     "output_type": "display_data"
    }
   ],
   "source": [
    "sns.heatmap(test_df.isnull(), cbar=False)"
   ]
  },
  {
   "cell_type": "markdown",
   "metadata": {},
   "source": [
    "#### Finding the variables with missing values and creating the list for such variables"
   ]
  },
  {
   "cell_type": "code",
   "execution_count": 27,
   "metadata": {},
   "outputs": [],
   "source": [
    "columns1 = []\n",
    "columns1 = train_df.columns\n",
    "counts1 = []\n",
    "counts1 = test_df.isnull().sum()\n",
    "dict = {\"Columns\":columns1, \"Counts\":counts1} \n",
    "value_count1 = pd.DataFrame.from_dict(dict, orient='index').transpose()\n",
    "value_count1.head()\n",
    "value_count1.to_csv('missing_values_test.csv',index=False)"
   ]
  },
  {
   "cell_type": "markdown",
   "metadata": {},
   "source": [
    "#### Missing values"
   ]
  },
  {
   "cell_type": "code",
   "execution_count": 28,
   "metadata": {},
   "outputs": [
    {
     "name": "stdout",
     "output_type": "stream",
     "text": [
      "Alley 1352\n",
      "FireplaceQu 730\n",
      "PoolQC 1456\n",
      "Fence 1169\n",
      "MiscFeature 1408\n"
     ]
    }
   ],
   "source": [
    "print(\"Alley\",test_df['Alley'].isnull().sum())\n",
    "print(\"FireplaceQu\",test_df['FireplaceQu'].isnull().sum())\n",
    "print(\"PoolQC\",test_df['PoolQC'].isnull().sum())\n",
    "print(\"Fence\",test_df['Fence'].isnull().sum())\n",
    "print(\"MiscFeature\",test_df['MiscFeature'].isnull().sum())"
   ]
  },
  {
   "cell_type": "markdown",
   "metadata": {},
   "source": [
    "#### Dropping columns that have more than 50% values are missing"
   ]
  },
  {
   "cell_type": "code",
   "execution_count": 29,
   "metadata": {},
   "outputs": [],
   "source": [
    "test_df.drop(['Alley','PoolQC','Fence','MiscFeature'], axis=1, inplace=True)"
   ]
  },
  {
   "cell_type": "markdown",
   "metadata": {},
   "source": [
    "### Feature Engineering"
   ]
  },
  {
   "cell_type": "markdown",
   "metadata": {},
   "source": [
    "#### Going feature by feature to resolve missing values issue (Test dataset)"
   ]
  },
  {
   "cell_type": "code",
   "execution_count": 30,
   "metadata": {},
   "outputs": [
    {
     "name": "stdout",
     "output_type": "stream",
     "text": [
      "RL         1114\n",
      "RM          242\n",
      "FV           74\n",
      "C (all)      15\n",
      "RH           10\n",
      "Name: MSZoning, dtype: int64\n",
      "Missing values before replacement:  4\n",
      "Missing values after replacement:  0\n"
     ]
    }
   ],
   "source": [
    "#MSZoning\n",
    "print(test_df['MSZoning'].value_counts())\n",
    "print(\"Missing values before replacement: \", test_df['MSZoning'].isnull().sum())\n",
    "test_df['MSZoning'].fillna(test_df['MSZoning'].mode()[0], inplace=True)\n",
    "print(\"Missing values after replacement: \", test_df['MSZoning'].isnull().sum())"
   ]
  },
  {
   "cell_type": "code",
   "execution_count": 31,
   "metadata": {},
   "outputs": [
    {
     "name": "stdout",
     "output_type": "stream",
     "text": [
      "count    1232.000000\n",
      "mean       68.580357\n",
      "std        22.376841\n",
      "min        21.000000\n",
      "25%        58.000000\n",
      "50%        67.000000\n",
      "75%        80.000000\n",
      "max       200.000000\n",
      "Name: LotFrontage, dtype: float64\n",
      "Missing values before replacement:  227\n",
      "Missing values after replacement:  0\n"
     ]
    }
   ],
   "source": [
    "#LotFrontage\n",
    "print(test_df['LotFrontage'].describe())\n",
    "print(\"Missing values before replacement: \", test_df['LotFrontage'].isnull().sum())\n",
    "test_df['LotFrontage'].fillna(test_df['LotFrontage'].mean(), inplace=True)\n",
    "print(\"Missing values after replacement: \", test_df['LotFrontage'].isnull().sum())"
   ]
  },
  {
   "cell_type": "code",
   "execution_count": 32,
   "metadata": {},
   "outputs": [
    {
     "name": "stdout",
     "output_type": "stream",
     "text": [
      "AllPub    1457\n",
      "Name: Utilities, dtype: int64\n",
      "Missing values before replacement:  2\n",
      "Missing values after replacement:  0\n"
     ]
    }
   ],
   "source": [
    "#Utilities\n",
    "print(test_df['Utilities'].value_counts())\n",
    "print(\"Missing values before replacement: \", test_df['Utilities'].isnull().sum())\n",
    "test_df['Utilities'].fillna(test_df['Utilities'].mode()[0], inplace=True)\n",
    "print(\"Missing values after replacement: \", test_df['Utilities'].isnull().sum())"
   ]
  },
  {
   "cell_type": "code",
   "execution_count": 33,
   "metadata": {},
   "outputs": [
    {
     "name": "stdout",
     "output_type": "stream",
     "text": [
      "VinylSd    510\n",
      "MetalSd    230\n",
      "HdBoard    220\n",
      "Wd Sdng    205\n",
      "Plywood    113\n",
      "CemntBd     65\n",
      "BrkFace     37\n",
      "WdShing     30\n",
      "AsbShng     24\n",
      "Stucco      18\n",
      "BrkComm      4\n",
      "AsphShn      1\n",
      "CBlock       1\n",
      "Name: Exterior1st, dtype: int64\n",
      "Missing values before replacement:  1\n",
      "Missing values after replacement:  0\n"
     ]
    }
   ],
   "source": [
    "#Exterior1st\n",
    "print(test_df['Exterior1st'].value_counts())\n",
    "print(\"Missing values before replacement: \", test_df['Exterior1st'].isnull().sum())\n",
    "test_df['Exterior1st'].fillna(test_df['Exterior1st'].mode()[0], inplace=True)\n",
    "print(\"Missing values after replacement: \", test_df['Exterior1st'].isnull().sum())"
   ]
  },
  {
   "cell_type": "code",
   "execution_count": 34,
   "metadata": {},
   "outputs": [
    {
     "name": "stdout",
     "output_type": "stream",
     "text": [
      "VinylSd    510\n",
      "MetalSd    233\n",
      "HdBoard    199\n",
      "Wd Sdng    194\n",
      "Plywood    128\n",
      "CmentBd     66\n",
      "Wd Shng     43\n",
      "BrkFace     22\n",
      "Stucco      21\n",
      "AsbShng     18\n",
      "Brk Cmn     15\n",
      "ImStucc      5\n",
      "CBlock       2\n",
      "AsphShn      1\n",
      "Stone        1\n",
      "Name: Exterior2nd, dtype: int64\n",
      "Missing values before replacement:  1\n",
      "Missing values after replacement:  0\n"
     ]
    }
   ],
   "source": [
    "#Exterior2nd\n",
    "print(test_df['Exterior2nd'].value_counts())\n",
    "print(\"Missing values before replacement: \", test_df['Exterior2nd'].isnull().sum())\n",
    "test_df['Exterior2nd'].fillna(test_df['Exterior2nd'].mode()[0], inplace=True)\n",
    "print(\"Missing values after replacement: \", test_df['Exterior2nd'].isnull().sum())"
   ]
  },
  {
   "cell_type": "code",
   "execution_count": 35,
   "metadata": {},
   "outputs": [
    {
     "name": "stdout",
     "output_type": "stream",
     "text": [
      "None       878\n",
      "BrkFace    434\n",
      "Stone      121\n",
      "BrkCmn      10\n",
      "Name: MasVnrType, dtype: int64\n",
      "Missing values before replacement:  16\n",
      "Missing values after replacement:  0\n"
     ]
    }
   ],
   "source": [
    "#MasVnrType\n",
    "print(test_df['MasVnrType'].value_counts())\n",
    "print(\"Missing values before replacement: \", test_df['MasVnrType'].isnull().sum())\n",
    "test_df['MasVnrType'].fillna(test_df['MasVnrType'].mode()[0], inplace=True)\n",
    "print(\"Missing values after replacement: \", test_df['MasVnrType'].isnull().sum())"
   ]
  },
  {
   "cell_type": "code",
   "execution_count": 36,
   "metadata": {},
   "outputs": [
    {
     "name": "stdout",
     "output_type": "stream",
     "text": [
      "count    1444.000000\n",
      "mean      100.709141\n",
      "std       177.625900\n",
      "min         0.000000\n",
      "25%         0.000000\n",
      "50%         0.000000\n",
      "75%       164.000000\n",
      "max      1290.000000\n",
      "Name: MasVnrArea, dtype: float64\n",
      "Missing values before replacement:  15\n",
      "Missing values after replacement:  0\n"
     ]
    }
   ],
   "source": [
    "#MasVnrArea\n",
    "print(test_df['MasVnrArea'].describe())\n",
    "print(\"Missing values before replacement: \", test_df['MasVnrArea'].isnull().sum())\n",
    "test_df['MasVnrArea'].fillna(test_df['MasVnrArea'].mean(), inplace=True)\n",
    "print(\"Missing values after replacement: \", test_df['MasVnrArea'].isnull().sum())"
   ]
  },
  {
   "cell_type": "code",
   "execution_count": 37,
   "metadata": {},
   "outputs": [
    {
     "name": "stdout",
     "output_type": "stream",
     "text": [
      "TA    634\n",
      "Gd    591\n",
      "Ex    137\n",
      "Fa     53\n",
      "Name: BsmtQual, dtype: int64\n",
      "Missing values before replacement:  44\n",
      "Missing values after replacement:  0\n"
     ]
    }
   ],
   "source": [
    "#BsmtQual\n",
    "print(test_df['BsmtQual'].value_counts())\n",
    "print(\"Missing values before replacement: \", test_df['BsmtQual'].isnull().sum())\n",
    "test_df['BsmtQual'].fillna(test_df['BsmtQual'].mode()[0], inplace=True)\n",
    "print(\"Missing values after replacement: \", test_df['BsmtQual'].isnull().sum())"
   ]
  },
  {
   "cell_type": "code",
   "execution_count": 38,
   "metadata": {},
   "outputs": [
    {
     "name": "stdout",
     "output_type": "stream",
     "text": [
      "TA    1295\n",
      "Fa      59\n",
      "Gd      57\n",
      "Po       3\n",
      "Name: BsmtCond, dtype: int64\n",
      "Missing values before replacement:  45\n",
      "Missing values after replacement:  0\n"
     ]
    }
   ],
   "source": [
    "#BsmtCond\n",
    "print(test_df['BsmtCond'].value_counts())\n",
    "print(\"Missing values before replacement: \", test_df['BsmtCond'].isnull().sum())\n",
    "test_df['BsmtCond'].fillna(test_df['BsmtCond'].mode()[0], inplace=True)\n",
    "print(\"Missing values after replacement: \", test_df['BsmtCond'].isnull().sum())"
   ]
  },
  {
   "cell_type": "code",
   "execution_count": 39,
   "metadata": {},
   "outputs": [
    {
     "name": "stdout",
     "output_type": "stream",
     "text": [
      "No    951\n",
      "Av    197\n",
      "Gd    142\n",
      "Mn    125\n",
      "Name: BsmtExposure, dtype: int64\n",
      "Missing values before replacement:  44\n",
      "Missing values after replacement:  0\n"
     ]
    }
   ],
   "source": [
    "#BsmtExposure\n",
    "print(test_df['BsmtExposure'].value_counts())\n",
    "print(\"Missing values before replacement: \", test_df['BsmtExposure'].isnull().sum())\n",
    "test_df['BsmtExposure'].fillna(test_df['BsmtExposure'].mode()[0], inplace=True)\n",
    "print(\"Missing values after replacement: \", test_df['BsmtExposure'].isnull().sum())"
   ]
  },
  {
   "cell_type": "code",
   "execution_count": 40,
   "metadata": {},
   "outputs": [
    {
     "name": "stdout",
     "output_type": "stream",
     "text": [
      "GLQ    431\n",
      "Unf    421\n",
      "ALQ    209\n",
      "Rec    155\n",
      "BLQ    121\n",
      "LwQ     80\n",
      "Name: BsmtFinType1, dtype: int64\n",
      "Missing values before replacement:  42\n",
      "Missing values after replacement:  0\n"
     ]
    }
   ],
   "source": [
    "#BsmtFinType1\n",
    "print(test_df['BsmtFinType1'].value_counts())\n",
    "print(\"Missing values before replacement: \", test_df['BsmtFinType1'].isnull().sum())\n",
    "test_df['BsmtFinType1'].fillna(test_df['BsmtFinType1'].mode()[0], inplace=True)\n",
    "print(\"Missing values after replacement: \", test_df['BsmtFinType1'].isnull().sum())"
   ]
  },
  {
   "cell_type": "code",
   "execution_count": 41,
   "metadata": {},
   "outputs": [
    {
     "name": "stdout",
     "output_type": "stream",
     "text": [
      "count    1458.000000\n",
      "mean      439.203704\n",
      "std       455.268042\n",
      "min         0.000000\n",
      "25%         0.000000\n",
      "50%       350.500000\n",
      "75%       753.500000\n",
      "max      4010.000000\n",
      "Name: BsmtFinSF1, dtype: float64\n",
      "Missing values before replacement:  1\n",
      "Missing values after replacement:  0\n"
     ]
    }
   ],
   "source": [
    "#BsmtFinSF1\n",
    "print(test_df['BsmtFinSF1'].describe())\n",
    "print(\"Missing values before replacement: \", test_df['BsmtFinSF1'].isnull().sum())\n",
    "test_df['BsmtFinSF1'].fillna(test_df['BsmtFinSF1'].mean(), inplace=True)\n",
    "print(\"Missing values after replacement: \", test_df['BsmtFinSF1'].isnull().sum())"
   ]
  },
  {
   "cell_type": "code",
   "execution_count": 42,
   "metadata": {},
   "outputs": [
    {
     "name": "stdout",
     "output_type": "stream",
     "text": [
      "Unf    1237\n",
      "Rec      51\n",
      "LwQ      41\n",
      "BLQ      35\n",
      "ALQ      33\n",
      "GLQ      20\n",
      "Name: BsmtFinType2, dtype: int64\n",
      "Missing values before replacement:  42\n",
      "Missing values after replacement:  0\n"
     ]
    }
   ],
   "source": [
    "#BsmtFinType2\n",
    "print(test_df['BsmtFinType2'].value_counts())\n",
    "print(\"Missing values before replacement: \", test_df['BsmtFinType2'].isnull().sum())\n",
    "test_df['BsmtFinType2'].fillna(test_df['BsmtFinType2'].mode()[0], inplace=True)\n",
    "print(\"Missing values after replacement: \", test_df['BsmtFinType2'].isnull().sum())"
   ]
  },
  {
   "cell_type": "code",
   "execution_count": 43,
   "metadata": {},
   "outputs": [
    {
     "name": "stdout",
     "output_type": "stream",
     "text": [
      "count    1458.000000\n",
      "mean       52.619342\n",
      "std       176.753926\n",
      "min         0.000000\n",
      "25%         0.000000\n",
      "50%         0.000000\n",
      "75%         0.000000\n",
      "max      1526.000000\n",
      "Name: BsmtFinSF2, dtype: float64\n",
      "Missing values before replacement:  1\n",
      "Missing values after replacement:  0\n"
     ]
    }
   ],
   "source": [
    "#BsmtFinSF2\n",
    "print(test_df['BsmtFinSF2'].describe())\n",
    "print(\"Missing values before replacement: \", test_df['BsmtFinSF2'].isnull().sum())\n",
    "test_df['BsmtFinSF2'].fillna(test_df['BsmtFinSF2'].mean(), inplace=True)\n",
    "print(\"Missing values after replacement: \", test_df['BsmtFinSF2'].isnull().sum())"
   ]
  },
  {
   "cell_type": "code",
   "execution_count": 44,
   "metadata": {},
   "outputs": [
    {
     "name": "stdout",
     "output_type": "stream",
     "text": [
      "count    1458.000000\n",
      "mean      554.294925\n",
      "std       437.260486\n",
      "min         0.000000\n",
      "25%       219.250000\n",
      "50%       460.000000\n",
      "75%       797.750000\n",
      "max      2140.000000\n",
      "Name: BsmtUnfSF, dtype: float64\n",
      "Missing values before replacement:  1\n",
      "Missing values after replacement:  0\n"
     ]
    }
   ],
   "source": [
    "#BsmtUnfSF\n",
    "print(test_df['BsmtUnfSF'].describe())\n",
    "print(\"Missing values before replacement: \", test_df['BsmtUnfSF'].isnull().sum())\n",
    "test_df['BsmtUnfSF'].fillna(test_df['BsmtUnfSF'].mean(), inplace=True)\n",
    "print(\"Missing values after replacement: \", test_df['BsmtUnfSF'].isnull().sum())"
   ]
  },
  {
   "cell_type": "code",
   "execution_count": 45,
   "metadata": {},
   "outputs": [
    {
     "name": "stdout",
     "output_type": "stream",
     "text": [
      "count    1458.000000\n",
      "mean     1046.117970\n",
      "std       442.898624\n",
      "min         0.000000\n",
      "25%       784.000000\n",
      "50%       988.000000\n",
      "75%      1305.000000\n",
      "max      5095.000000\n",
      "Name: TotalBsmtSF, dtype: float64\n",
      "Missing values before replacement:  1\n",
      "Missing values after replacement:  0\n"
     ]
    }
   ],
   "source": [
    "#TotalBsmtSF\n",
    "print(test_df['TotalBsmtSF'].describe())\n",
    "print(\"Missing values before replacement: \", test_df['TotalBsmtSF'].isnull().sum())\n",
    "test_df['TotalBsmtSF'].fillna(test_df['TotalBsmtSF'].mean(), inplace=True)\n",
    "print(\"Missing values after replacement: \", test_df['TotalBsmtSF'].isnull().sum())"
   ]
  },
  {
   "cell_type": "code",
   "execution_count": 46,
   "metadata": {},
   "outputs": [
    {
     "name": "stdout",
     "output_type": "stream",
     "text": [
      "0.0    849\n",
      "1.0    584\n",
      "2.0     23\n",
      "3.0      1\n",
      "Name: BsmtFullBath, dtype: int64\n",
      "Missing values before replacement:  2\n",
      "Missing values after replacement:  0\n"
     ]
    }
   ],
   "source": [
    "#BsmtFullBath\n",
    "print(test_df['BsmtFullBath'].value_counts())\n",
    "print(\"Missing values before replacement: \", test_df['BsmtFullBath'].isnull().sum())\n",
    "test_df['BsmtFullBath'].fillna(test_df['BsmtFullBath'].mode()[0], inplace=True)\n",
    "print(\"Missing values after replacement: \", test_df['BsmtFullBath'].isnull().sum())"
   ]
  },
  {
   "cell_type": "code",
   "execution_count": 47,
   "metadata": {},
   "outputs": [
    {
     "name": "stdout",
     "output_type": "stream",
     "text": [
      "0.0    1364\n",
      "1.0      91\n",
      "2.0       2\n",
      "Name: BsmtHalfBath, dtype: int64\n",
      "Missing values before replacement:  2\n",
      "Missing values after replacement:  0\n"
     ]
    }
   ],
   "source": [
    "#BsmtHalfBath\n",
    "print(test_df['BsmtHalfBath'].value_counts())\n",
    "print(\"Missing values before replacement: \", test_df['BsmtHalfBath'].isnull().sum())\n",
    "test_df['BsmtHalfBath'].fillna(test_df['BsmtHalfBath'].mode()[0], inplace=True)\n",
    "print(\"Missing values after replacement: \", test_df['BsmtHalfBath'].isnull().sum())"
   ]
  },
  {
   "cell_type": "code",
   "execution_count": 48,
   "metadata": {},
   "outputs": [
    {
     "name": "stdout",
     "output_type": "stream",
     "text": [
      "TA    757\n",
      "Gd    565\n",
      "Ex    105\n",
      "Fa     31\n",
      "Name: KitchenQual, dtype: int64\n",
      "Missing values before replacement:  1\n",
      "Missing values after replacement:  0\n"
     ]
    }
   ],
   "source": [
    "#KitchenQual\n",
    "print(test_df['KitchenQual'].value_counts())\n",
    "print(\"Missing values before replacement: \", test_df['KitchenQual'].isnull().sum())\n",
    "test_df['KitchenQual'].fillna(test_df['KitchenQual'].mode()[0], inplace=True)\n",
    "print(\"Missing values after replacement: \", test_df['KitchenQual'].isnull().sum())"
   ]
  },
  {
   "cell_type": "code",
   "execution_count": 49,
   "metadata": {},
   "outputs": [
    {
     "name": "stdout",
     "output_type": "stream",
     "text": [
      "Typ     1357\n",
      "Min2      36\n",
      "Min1      34\n",
      "Mod       20\n",
      "Maj1       5\n",
      "Maj2       4\n",
      "Sev        1\n",
      "Name: Functional, dtype: int64\n",
      "Missing values before replacement:  2\n",
      "Missing values after replacement:  0\n"
     ]
    }
   ],
   "source": [
    "#Functional\n",
    "print(test_df['Functional'].value_counts())\n",
    "print(\"Missing values before replacement: \", test_df['Functional'].isnull().sum())\n",
    "test_df['Functional'].fillna(test_df['Functional'].mode()[0], inplace=True)\n",
    "print(\"Missing values after replacement: \", test_df['Functional'].isnull().sum())"
   ]
  },
  {
   "cell_type": "code",
   "execution_count": 50,
   "metadata": {},
   "outputs": [
    {
     "name": "stdout",
     "output_type": "stream",
     "text": [
      "Gd    364\n",
      "TA    279\n",
      "Fa     41\n",
      "Po     26\n",
      "Ex     19\n",
      "Name: FireplaceQu, dtype: int64\n",
      "Missing values before replacement:  730\n",
      "Missing values after replacement:  0\n"
     ]
    }
   ],
   "source": [
    "#FireplaceQu\n",
    "print(test_df['FireplaceQu'].value_counts())\n",
    "print(\"Missing values before replacement: \", test_df['FireplaceQu'].isnull().sum())\n",
    "test_df['FireplaceQu'].fillna(test_df['FireplaceQu'].mode()[0], inplace=True)\n",
    "print(\"Missing values after replacement: \", test_df['FireplaceQu'].isnull().sum())"
   ]
  },
  {
   "cell_type": "code",
   "execution_count": 51,
   "metadata": {},
   "outputs": [
    {
     "name": "stdout",
     "output_type": "stream",
     "text": [
      "Attchd     853\n",
      "Detchd     392\n",
      "BuiltIn     98\n",
      "Basment     17\n",
      "2Types      17\n",
      "CarPort      6\n",
      "Name: GarageType, dtype: int64\n",
      "Missing values before replacement:  76\n",
      "Missing values after replacement:  0\n"
     ]
    }
   ],
   "source": [
    "#GarageType\n",
    "print(test_df['GarageType'].value_counts())\n",
    "print(\"Missing values before replacement: \", test_df['GarageType'].isnull().sum())\n",
    "test_df['GarageType'].fillna(test_df['GarageType'].mode()[0], inplace=True)\n",
    "print(\"Missing values after replacement: \", test_df['GarageType'].isnull().sum())"
   ]
  },
  {
   "cell_type": "code",
   "execution_count": 52,
   "metadata": {},
   "outputs": [
    {
     "name": "stdout",
     "output_type": "stream",
     "text": [
      "count    1381.000000\n",
      "mean     1977.721217\n",
      "std        26.431175\n",
      "min      1895.000000\n",
      "25%      1959.000000\n",
      "50%      1979.000000\n",
      "75%      2002.000000\n",
      "max      2207.000000\n",
      "Name: GarageYrBlt, dtype: float64\n",
      "Missing values before replacement:  78\n",
      "Missing values after replacement:  0\n"
     ]
    }
   ],
   "source": [
    "#GarageYrBlt\n",
    "print(test_df['GarageYrBlt'].describe())\n",
    "print(\"Missing values before replacement: \", test_df['GarageYrBlt'].isnull().sum())\n",
    "test_df['GarageYrBlt'].fillna(test_df['GarageYrBlt'].median(), inplace=True)\n",
    "print(\"Missing values after replacement: \", test_df['GarageYrBlt'].isnull().sum())"
   ]
  },
  {
   "cell_type": "code",
   "execution_count": 53,
   "metadata": {},
   "outputs": [
    {
     "name": "stdout",
     "output_type": "stream",
     "text": [
      "Unf    625\n",
      "RFn    389\n",
      "Fin    367\n",
      "Name: GarageFinish, dtype: int64\n",
      "Missing values before replacement:  78\n",
      "Missing values after replacement:  0\n"
     ]
    }
   ],
   "source": [
    "#GarageFinish\n",
    "print(test_df['GarageFinish'].value_counts())\n",
    "print(\"Missing values before replacement: \", test_df['GarageFinish'].isnull().sum())\n",
    "test_df['GarageFinish'].fillna(test_df['GarageFinish'].mode()[0], inplace=True)\n",
    "print(\"Missing values after replacement: \", test_df['GarageFinish'].isnull().sum())"
   ]
  },
  {
   "cell_type": "code",
   "execution_count": 54,
   "metadata": {},
   "outputs": [
    {
     "name": "stdout",
     "output_type": "stream",
     "text": [
      "2.0    770\n",
      "1.0    407\n",
      "3.0    193\n",
      "0.0     76\n",
      "4.0     11\n",
      "5.0      1\n",
      "Name: GarageCars, dtype: int64\n",
      "Missing values before replacement:  1\n",
      "Missing values after replacement:  0\n"
     ]
    }
   ],
   "source": [
    "#GarageCars\n",
    "print(test_df['GarageCars'].value_counts())\n",
    "print(\"Missing values before replacement: \", test_df['GarageCars'].isnull().sum())\n",
    "test_df['GarageCars'].fillna(test_df['GarageCars'].mode()[0], inplace=True)\n",
    "print(\"Missing values after replacement: \", test_df['GarageCars'].isnull().sum())"
   ]
  },
  {
   "cell_type": "code",
   "execution_count": 55,
   "metadata": {},
   "outputs": [
    {
     "name": "stdout",
     "output_type": "stream",
     "text": [
      "count    1458.000000\n",
      "mean      472.768861\n",
      "std       217.048611\n",
      "min         0.000000\n",
      "25%       318.000000\n",
      "50%       480.000000\n",
      "75%       576.000000\n",
      "max      1488.000000\n",
      "Name: GarageArea, dtype: float64\n",
      "Missing values before replacement:  1\n",
      "Missing values after replacement:  0\n"
     ]
    }
   ],
   "source": [
    "#GarageArea\n",
    "print(test_df['GarageArea'].describe())\n",
    "print(\"Missing values before replacement: \", test_df['GarageArea'].isnull().sum())\n",
    "test_df['GarageArea'].fillna(test_df['GarageArea'].mean(), inplace=True)\n",
    "print(\"Missing values after replacement: \", test_df['GarageArea'].isnull().sum())"
   ]
  },
  {
   "cell_type": "code",
   "execution_count": 56,
   "metadata": {},
   "outputs": [
    {
     "name": "stdout",
     "output_type": "stream",
     "text": [
      "TA    1293\n",
      "Fa      76\n",
      "Gd      10\n",
      "Po       2\n",
      "Name: GarageQual, dtype: int64\n",
      "Missing values before replacement:  78\n",
      "Missing values after replacement:  0\n"
     ]
    }
   ],
   "source": [
    "#GarageQual\n",
    "print(test_df['GarageQual'].value_counts())\n",
    "print(\"Missing values before replacement: \", test_df['GarageQual'].isnull().sum())\n",
    "test_df['GarageQual'].fillna(test_df['GarageQual'].mode()[0], inplace=True)\n",
    "print(\"Missing values after replacement: \", test_df['GarageQual'].isnull().sum())"
   ]
  },
  {
   "cell_type": "code",
   "execution_count": 57,
   "metadata": {},
   "outputs": [
    {
     "name": "stdout",
     "output_type": "stream",
     "text": [
      "TA    1328\n",
      "Fa      39\n",
      "Po       7\n",
      "Gd       6\n",
      "Ex       1\n",
      "Name: GarageCond, dtype: int64\n",
      "Missing values before replacement:  78\n",
      "Missing values after replacement:  0\n"
     ]
    }
   ],
   "source": [
    "#GarageCond\n",
    "print(test_df['GarageCond'].value_counts())\n",
    "print(\"Missing values before replacement: \", test_df['GarageCond'].isnull().sum())\n",
    "test_df['GarageCond'].fillna(test_df['GarageCond'].mode()[0], inplace=True)\n",
    "print(\"Missing values after replacement: \", test_df['GarageCond'].isnull().sum())"
   ]
  },
  {
   "cell_type": "code",
   "execution_count": 58,
   "metadata": {},
   "outputs": [
    {
     "name": "stdout",
     "output_type": "stream",
     "text": [
      "WD       1258\n",
      "New       117\n",
      "COD        44\n",
      "ConLD      17\n",
      "CWD         8\n",
      "Oth         4\n",
      "ConLI       4\n",
      "Con         3\n",
      "ConLw       3\n",
      "Name: SaleType, dtype: int64\n",
      "Missing values before replacement:  1\n",
      "Missing values after replacement:  0\n"
     ]
    }
   ],
   "source": [
    "#SaleType\n",
    "print(test_df['SaleType'].value_counts())\n",
    "print(\"Missing values before replacement: \", test_df['SaleType'].isnull().sum())\n",
    "test_df['SaleType'].fillna(test_df['SaleType'].mode()[0], inplace=True)\n",
    "print(\"Missing values after replacement: \", test_df['SaleType'].isnull().sum())"
   ]
  },
  {
   "cell_type": "code",
   "execution_count": 59,
   "metadata": {},
   "outputs": [
    {
     "data": {
      "text/plain": [
       "(1459, 76)"
      ]
     },
     "execution_count": 59,
     "metadata": {},
     "output_type": "execute_result"
    },
    {
     "data": {
      "image/png": "[encoded data removed]",
      "text/plain": [
       "<Figure size 432x288 with 1 Axes>"
      ]
     },
     "metadata": {
      "needs_background": "light"
     },
     "output_type": "display_data"
    }
   ],
   "source": [
    "sns.heatmap(test_df.isnull(), cbar=False)\n",
    "test_df.shape"
   ]
  },
  {
   "cell_type": "code",
   "execution_count": 60,
   "metadata": {},
   "outputs": [],
   "source": [
    "test_df.to_csv(\"test_clean.csv\", index=False)"
   ]
  },
  {
   "cell_type": "code",
   "execution_count": null,
   "metadata": {},
   "outputs": [],
   "source": []
  }
 ],
 "metadata": {
  "kernelspec": {
   "display_name": "tf2",
   "language": "python",
   "name": "tf2"
  },
  "language_info": {
   "codemirror_mode": {
    "name": "ipython",
    "version": 3
   },
   "file_extension": ".py",
   "mimetype": "text/x-python",
   "name": "python",
   "nbconvert_exporter": "python",
   "pygments_lexer": "ipython3",
   "version": "3.8.8"
  }
 },
 "nbformat": 4,
 "nbformat_minor": 4
}
